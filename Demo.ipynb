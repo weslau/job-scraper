{
 "cells": [
  {
   "cell_type": "code",
   "execution_count": 13,
   "metadata": {},
   "outputs": [],
   "source": [
    "import job_scraper\n",
    "# from job_scraper import find_jobs_from, load_indeed_jobs_div, load_hinge_jobs_div\n",
    "import urllib\n",
    "import requests\n",
    "from bs4 import BeautifulSoup\n",
    "import selenium\n",
    "from selenium import webdriver\n",
    "from selenium.webdriver.support.ui import WebDriverWait\n",
    "import pandas as pd\n",
    "import os"
   ]
  },
  {
   "cell_type": "code",
   "execution_count": 2,
   "metadata": {},
   "outputs": [
    {
     "name": "stdout",
     "output_type": "stream",
     "text": [
      "<module 'job_scraper' from 'C:\\\\Users\\\\lauwx1\\\\Desktop\\\\job-scraper\\\\job_scraper.py'>\n"
     ]
    }
   ],
   "source": [
    "print(job_scraper)"
   ]
  },
  {
   "cell_type": "code",
   "execution_count": 3,
   "metadata": {},
   "outputs": [],
   "source": [
    "desired_characs = ['titles', 'companies', 'links', 'date_listed']"
   ]
  },
  {
   "cell_type": "markdown",
   "metadata": {},
   "source": [
    "## Extracting jobs from Indeed.co.uk"
   ]
  },
  {
   "cell_type": "code",
   "execution_count": null,
   "metadata": {},
   "outputs": [],
   "source": [
    "find_jobs_from('Indeed', 'data analyst', 'california', desired_characs)"
   ]
  },
  {
   "cell_type": "markdown",
   "metadata": {},
   "source": [
    "## Extracting jobs from Hinge Health"
   ]
  },
  {
   "cell_type": "code",
   "execution_count": null,
   "metadata": {},
   "outputs": [],
   "source": [
    "# load_indeed_jobs_div('data analyst','california')"
   ]
  },
  {
   "cell_type": "code",
   "execution_count": 23,
   "metadata": {},
   "outputs": [],
   "source": [
    "def load_hinge_jobs_div(commitment='Full-time', team='Engineering'):\n",
    "    getVars = {'commitment': commitment, 'team': team}\n",
    "    url = ('https://jobs.lever.co/hingehealth?' + urllib.parse.urlencode(getVars))\n",
    "    page = requests.get(url)\n",
    "    soup = BeautifulSoup(page.content, \"html.parser\")\n",
    "    # job_soup = soup.find(id=\"resultsCol\")\n",
    "    # job_soup = soup.find(data-qa=\"posting-name\")\n",
    "    job_soup = soup.find_all('h5')\n",
    "    return job_soup"
   ]
  },
  {
   "cell_type": "code",
   "execution_count": 14,
   "metadata": {},
   "outputs": [
    {
     "data": {
      "text/plain": [
       "'commitment=Full-time&team=Engineering'"
      ]
     },
     "execution_count": 14,
     "metadata": {},
     "output_type": "execute_result"
    }
   ],
   "source": [
    "# getVars = {'commitment': 'Full-time', 'team': 'Engineering'}\n",
    "# urllib.parse.urlencode(getVars)"
   ]
  },
  {
   "cell_type": "code",
   "execution_count": 24,
   "metadata": {},
   "outputs": [
    {
     "data": {
      "text/plain": [
       "[<h5 data-qa=\"posting-name\">Data Engineer</h5>,\n",
       " <h5 data-qa=\"posting-name\">Director of Application Engineering, Core App</h5>,\n",
       " <h5 data-qa=\"posting-name\">Engineering Manager (Platform)</h5>,\n",
       " <h5 data-qa=\"posting-name\">Senior Software Engineer (Backend)</h5>,\n",
       " <h5 data-qa=\"posting-name\">Senior Software Engineer (Data Focus)</h5>,\n",
       " <h5 data-qa=\"posting-name\">Senior Software Engineer (Front End)</h5>,\n",
       " <h5 data-qa=\"posting-name\">Senior Software Engineer (Full-Stack)</h5>,\n",
       " <h5 data-qa=\"posting-name\">Senior Software Engineer (Internal Tooling)</h5>,\n",
       " <h5 data-qa=\"posting-name\">Site Reliability Engineer</h5>,\n",
       " <h5 data-qa=\"posting-name\">Technical Lead</h5>]"
      ]
     },
     "execution_count": 24,
     "metadata": {},
     "output_type": "execute_result"
    }
   ],
   "source": [
    "# find_jobs_from('Hinge', 'data analyst', 'california', desired_characs)\n",
    "load_hinge_jobs_div(commitment='Full-time', team='Engineering')\n",
    "# page = requests.get('https://jobs.lever.co/hingehealth?commitment=Full-time&team=Engineering')\n",
    "# soup = BeautifulSoup(page.content, \"html.parser\")\n",
    "# soup ##somehow when i run the stuff inside the function it works, but the call to the function won't work. its calling None??"
   ]
  },
  {
   "cell_type": "code",
   "execution_count": null,
   "metadata": {},
   "outputs": [],
   "source": [
    "import requests\n",
    "from bs4 import BeautifulSoup\n",
    "url = 'https://jobs.lever.co/hingehealth?commitment=Full-time&team=Engineering'\n",
    "resp = requests.get(url)\n",
    "soup = BeautifulSoup(resp.text)"
   ]
  },
  {
   "cell_type": "code",
   "execution_count": null,
   "metadata": {},
   "outputs": [],
   "source": [
    "# len(soup.find_all('a'))\n",
    "soup"
   ]
  },
  {
   "cell_type": "markdown",
   "metadata": {},
   "source": [
    "## Extracting jobs from CWjobs.co.uk (using Selenium)"
   ]
  },
  {
   "cell_type": "code",
   "execution_count": null,
   "metadata": {},
   "outputs": [],
   "source": [
    "find_jobs_from('CWjobs', 'data scientist', 'london', desired_characs)"
   ]
  }
 ],
 "metadata": {
  "kernelspec": {
   "display_name": "thesis-env",
   "language": "python",
   "name": "thesis-env"
  },
  "language_info": {
   "codemirror_mode": {
    "name": "ipython",
    "version": 3
   },
   "file_extension": ".py",
   "mimetype": "text/x-python",
   "name": "python",
   "nbconvert_exporter": "python",
   "pygments_lexer": "ipython3",
   "version": "3.7.7"
  }
 },
 "nbformat": 4,
 "nbformat_minor": 4
}
